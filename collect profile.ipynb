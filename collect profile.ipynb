{
 "cells": [
  {
   "cell_type": "code",
   "execution_count": 8,
   "metadata": {
    "ExecuteTime": {
     "end_time": "2019-04-09T22:30:32.997640Z",
     "start_time": "2019-04-09T22:30:32.994518Z"
    }
   },
   "outputs": [],
   "source": [
    "import os\n",
    "from collections import defaultdict, Counter\n",
    "import json\n",
    "\n",
    "from tqdm import tqdm_notebook as tqdm"
   ]
  },
  {
   "cell_type": "markdown",
   "metadata": {},
   "source": [
    "# project definitions "
   ]
  },
  {
   "cell_type": "code",
   "execution_count": 9,
   "metadata": {
    "ExecuteTime": {
     "end_time": "2019-04-09T22:30:50.056155Z",
     "start_time": "2019-04-09T22:30:50.051997Z"
    }
   },
   "outputs": [],
   "source": [
    "LINUX_BASE = '/mnt/c/Users/mwhitmore/Desktop/Work/linux/'\n",
    "LINUX_REPO_BASE = os.path.join(LINUX_BASE, 'repo')\n",
    "SNAPSHOTS_BASE = os.path.join(LINUX_BASE, 'snapshots')\n",
    "DATA_IN = os.path.join(LINUX_BASE, 'data_in')\n",
    "os.makedirs(DATA_IN, exist_ok=True)"
   ]
  },
  {
   "cell_type": "code",
   "execution_count": 10,
   "metadata": {
    "ExecuteTime": {
     "end_time": "2019-04-09T22:31:38.038016Z",
     "start_time": "2019-04-09T22:31:38.033535Z"
    }
   },
   "outputs": [],
   "source": [
    "VERSIONS = {\n",
    "    'v2.6.12-rc2':'2005-04-16 15:20:36 -0700',\n",
    "    'v2.6.21' : '2007-04-25 20:08:32 -0700',\n",
    "    'v2.6.31':'2009-09-09 15:13:59 -0700',\n",
    "    'v3.0':'2011-07-21 19:17:23 -0700',    \n",
    "    'v3.11':'2013-09-02 13:46:10 -0700',        \n",
    "    'v4.0':'2015-04-12 15:12:50 -0700',            \n",
    "    'v4.13':'2017-09-03 13:56:17 -0700',\n",
    "    'v5.0':'2019-03-03 15:21:29 -0800'\n",
    "}"
   ]
  },
  {
   "cell_type": "code",
   "execution_count": 11,
   "metadata": {
    "ExecuteTime": {
     "end_time": "2019-04-09T22:31:40.414678Z",
     "start_time": "2019-04-09T22:31:40.411212Z"
    }
   },
   "outputs": [],
   "source": [
    "def tool_file_path(version, tool):\n",
    "    return os.path.join(DATA_IN, f'{version}.{tool}')\n",
    "\n",
    "def snap_folder_path(version):\n",
    "    return os.path.join(SNAPSHOTS_BASE, version)    "
   ]
  },
  {
   "cell_type": "code",
   "execution_count": 12,
   "metadata": {
    "ExecuteTime": {
     "end_time": "2019-04-09T22:31:40.796565Z",
     "start_time": "2019-04-09T22:31:40.792732Z"
    }
   },
   "outputs": [],
   "source": [
    "def run_wc(version):\n",
    "    snap_folder = snap_folder_path(version)\n",
    "    tool_file = tool_file_path(version, 'wc')\n",
    "    \n",
    "    cmd = f'find \"{snap_folder}\" -type f'\n",
    "    cmd += r' -exec wc -l \"{}\" \\;'\n",
    "    cmd += f' > \"{tool_file}\"' \n",
    "\n",
    "    !{cmd}\n",
    "    "
   ]
  },
  {
   "cell_type": "code",
   "execution_count": 13,
   "metadata": {
    "ExecuteTime": {
     "end_time": "2019-04-09T22:31:42.515146Z",
     "start_time": "2019-04-09T22:31:42.509225Z"
    }
   },
   "outputs": [],
   "source": [
    "def run_lineset(version):\n",
    "    snap_folder = snap_folder_path(version)\n",
    "    tool_file = tool_file_path(version, 'lineset')\n",
    "    \n",
    "    result = defaultdict(Counter)\n",
    "\n",
    "    for root, subdirs, files in os.walk(snap_folder):\n",
    "        for f in files:\n",
    "            _, ext = os.path.splitext(f)\n",
    "            ext = ext.lower()\n",
    "            with open(os.path.join(snap_folder, root, f), encoding='latin-1') as fin:\n",
    "                result[ext].update([l.strip() for l in fin])\n",
    "\n",
    "    with open(tool_file, 'w') as fout:\n",
    "        json.dump(result, fout, indent=1)"
   ]
  },
  {
   "cell_type": "markdown",
   "metadata": {},
   "source": [
    "# Run WC"
   ]
  },
  {
   "cell_type": "code",
   "execution_count": 14,
   "metadata": {
    "ExecuteTime": {
     "end_time": "2019-04-09T22:12:42.000027Z",
     "start_time": "2019-04-09T22:11:06.867575Z"
    }
   },
   "outputs": [
    {
     "data": {
      "application/vnd.jupyter.widget-view+json": {
       "model_id": "014aa489895e41a99001487f5a5a576e",
       "version_major": 2,
       "version_minor": 0
      },
      "text/plain": [
       "HBox(children=(IntProgress(value=0, max=8), HTML(value='')))"
      ]
     },
     "metadata": {},
     "output_type": "display_data"
    },
    {
     "name": "stdout",
     "output_type": "stream",
     "text": [
      "generate profile data for version v2.6.12-rc2\n",
      "generate profile data for version v2.6.21\n",
      "generate profile data for version v2.6.31\n",
      "generate profile data for version v3.0\n",
      "generate profile data for version v3.11\n",
      "generate profile data for version v4.0\n",
      "generate profile data for version v4.13\n",
      "generate profile data for version v5.0\n"
     ]
    }
   ],
   "source": [
    "for version in tqdm(VERSIONS):\n",
    "    print('generate profile data for version', version)\n",
    "    run_wc(version)"
   ]
  },
  {
   "cell_type": "markdown",
   "metadata": {},
   "source": [
    "# Run Lineset"
   ]
  },
  {
   "cell_type": "code",
   "execution_count": 15,
   "metadata": {
    "ExecuteTime": {
     "end_time": "2019-04-09T22:15:36.216367Z",
     "start_time": "2019-04-09T22:13:35.462408Z"
    }
   },
   "outputs": [
    {
     "data": {
      "application/vnd.jupyter.widget-view+json": {
       "model_id": "5c0cc67748a5404ba155f14501f88b1b",
       "version_major": 2,
       "version_minor": 0
      },
      "text/plain": [
       "HBox(children=(IntProgress(value=0, max=8), HTML(value='')))"
      ]
     },
     "metadata": {},
     "output_type": "display_data"
    }
   ],
   "source": [
    "for version in tqdm(VERSIONS):\n",
    "    run_lineset(version)"
   ]
  },
  {
   "cell_type": "code",
   "execution_count": 16,
   "metadata": {},
   "outputs": [],
   "source": [
    "# dependency, commit log, architecture tree"
   ]
  }
 ],
 "metadata": {
  "hide_input": false,
  "kernelspec": {
   "display_name": "Python 3",
   "language": "python",
   "name": "python3"
  },
  "language_info": {
   "codemirror_mode": {
    "name": "ipython",
    "version": 3
   },
   "file_extension": ".py",
   "mimetype": "text/x-python",
   "name": "python",
   "nbconvert_exporter": "python",
   "pygments_lexer": "ipython3",
   "version": "3.6.8"
  },
  "toc": {
   "base_numbering": 1,
   "nav_menu": {},
   "number_sections": true,
   "sideBar": true,
   "skip_h1_title": false,
   "title_cell": "Table of Contents",
   "title_sidebar": "Contents",
   "toc_cell": false,
   "toc_position": {},
   "toc_section_display": true,
   "toc_window_display": false
  },
  "varInspector": {
   "cols": {
    "lenName": 16,
    "lenType": 16,
    "lenVar": 40
   },
   "kernels_config": {
    "python": {
     "delete_cmd_postfix": "",
     "delete_cmd_prefix": "del ",
     "library": "var_list.py",
     "varRefreshCmd": "print(var_dic_list())"
    },
    "r": {
     "delete_cmd_postfix": ") ",
     "delete_cmd_prefix": "rm(",
     "library": "var_list.r",
     "varRefreshCmd": "cat(var_dic_list()) "
    }
   },
   "types_to_exclude": [
    "module",
    "function",
    "builtin_function_or_method",
    "instance",
    "_Feature"
   ],
   "window_display": false
  }
 },
 "nbformat": 4,
 "nbformat_minor": 2
}
